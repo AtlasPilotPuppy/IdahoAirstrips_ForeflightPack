{
 "cells": [
  {
   "cell_type": "code",
   "execution_count": 161,
   "metadata": {
    "collapsed": false,
    "ExecuteTime": {
     "end_time": "2023-05-26T07:44:17.754669Z",
     "start_time": "2023-05-26T07:44:17.753552Z"
    }
   },
   "outputs": [],
   "source": [
    "from bs4 import BeautifulSoup\n",
    "import requests\n",
    "import re\n",
    "from tqdm import tqdm"
   ]
  },
  {
   "cell_type": "code",
   "execution_count": 66,
   "metadata": {
    "ExecuteTime": {
     "end_time": "2023-05-26T05:44:43.665643Z",
     "start_time": "2023-05-26T05:44:43.661170Z"
    },
    "collapsed": false
   },
   "outputs": [],
   "source": [
    "start_path = \"https://idahoaviation.com/idaho-airstrips-members/idaho-airstrip-network-members/\"\n",
    "## getting airstrips list needs a logged in user\n",
    "## this information was copied from the page source in the browser and hence its hardcoded"
   ]
  },
  {
   "cell_type": "code",
   "execution_count": 75,
   "metadata": {
    "ExecuteTime": {
     "end_time": "2023-05-26T05:52:14.616483Z",
     "start_time": "2023-05-26T05:52:14.599004Z"
    },
    "collapsed": false
   },
   "outputs": [],
   "source": [
    "with open(\"airstrips.html\") as f:\n",
    "    airstrips_html = f.read()\n",
    "airstrps_soup = BeautifulSoup(airstrips_html)\n",
    "airstrip_links = airstrps_soup.find_all('a', class_=\"airstrip_list_item\")"
   ]
  },
  {
   "cell_type": "code",
   "execution_count": 121,
   "metadata": {
    "ExecuteTime": {
     "end_time": "2023-05-26T06:14:45.901421Z",
     "start_time": "2023-05-26T06:14:45.897290Z"
    },
    "collapsed": false
   },
   "outputs": [
    {
     "data": {
      "text/plain": [
       "{'45 Ranch (NA4)': 'https://idahoaviation.com/airstrips/45-ranch/',\n",
       " 'Aberdeen (U36)': 'https://idahoaviation.com/airstrips/aberdeen/',\n",
       " 'Alpine (46U)': 'https://idahoaviation.com/airstrips/alpine/',\n",
       " 'American Falls (U01)': 'https://idahoaviation.com/airstrips/american-falls/',\n",
       " 'Antelope Valley (U92)': 'https://idahoaviation.com/airstrips/antelope-valley/',\n",
       " 'Arco (KAOC)': 'https://idahoaviation.com/airstrips/arco/',\n",
       " 'Athol ID (ID05)': 'https://idahoaviation.com/airstrips/athol-id/',\n",
       " 'Atlanta (55H)': 'https://idahoaviation.com/airstrips/atlanta/',\n",
       " 'Bancroft (U51)': 'https://idahoaviation.com/airstrips/bancroft/',\n",
       " 'Bear Lake Co./Paris (1U7)': 'https://idahoaviation.com/airstrips/paris-bear-lake-co/',\n",
       " 'Bear Trap (1U0)': 'https://idahoaviation.com/airstrips/bear-trap/',\n",
       " 'Bernard (U54)': 'https://idahoaviation.com/airstrips/bernard/',\n",
       " 'Big Bar (1DA)': 'https://idahoaviation.com/airstrips/big-bar/',\n",
       " 'Big Creek (U60)': 'https://idahoaviation.com/airstrips/big-creek/',\n",
       " 'Big Southern Butte (U46)': 'https://idahoaviation.com/airstrips/big-southern-butte/',\n",
       " 'Blackfoot (U02)': 'https://idahoaviation.com/airstrips/blackfoot/',\n",
       " 'Boise (KBOI)': 'https://idahoaviation.com/airstrips/boise/',\n",
       " 'Bonners Ferry (65S)': 'https://idahoaviation.com/airstrips/bonners-ferry/',\n",
       " 'Brooks Seaplane Base (S76)': 'https://idahoaviation.com/airstrips/brooks-seaplane-base/',\n",
       " 'Bruce Meadows (U63)': 'https://idahoaviation.com/airstrips/bruce-meadows/',\n",
       " 'Buhl (U03)': 'https://idahoaviation.com/airstrips/buhl/',\n",
       " 'Burley (KBYI)': 'https://idahoaviation.com/airstrips/burley/',\n",
       " 'Cabin Creek (I08)': 'https://idahoaviation.com/airstrips/cabin-creek/',\n",
       " 'Cache Creek (OR62)': 'https://idahoaviation.com/airstrips/cache-creek/',\n",
       " 'Caldwell (KEUL)': 'https://idahoaviation.com/airstrips/caldwell/',\n",
       " 'Carey (U65)': 'https://idahoaviation.com/airstrips/carey/',\n",
       " 'Cascade (U70)': 'https://idahoaviation.com/airstrips/cascade/',\n",
       " 'Cavanaugh Bay (66S)': 'https://idahoaviation.com/airstrips/cavanaugh-bay/',\n",
       " 'Cayuse Creek (C64)': 'https://idahoaviation.com/airstrips/cayuse-creek/',\n",
       " 'Challis (KLLJ)': 'https://idahoaviation.com/airstrips/challis/',\n",
       " 'Chamberlain Basin (U79)': 'https://idahoaviation.com/airstrips/chamberlain-basin/',\n",
       " 'Coeur D’ Alene-Pappy Boyington Field (KCOE)': 'https://idahoaviation.com/airstrips/coeur-d-alene/',\n",
       " 'Cold Meadows (U81)': 'https://idahoaviation.com/airstrips/cold-meadows/',\n",
       " 'Copper Basin (0U2)': 'https://idahoaviation.com/airstrips/copper-basin/',\n",
       " 'Cottonwood (S84)': 'https://idahoaviation.com/airstrips/cottonwood/',\n",
       " 'Cougar Ranch (D47)': 'https://idahoaviation.com/airstrips/cougar-ranch/',\n",
       " 'Council (U82)': 'https://idahoaviation.com/airstrips/council/',\n",
       " 'Cox’s Well (U48)': 'https://idahoaviation.com/airstrips/coxs-well/',\n",
       " 'Craigmont (S89)': 'https://idahoaviation.com/airstrips/craigmont/',\n",
       " 'Deadwood Reservoir (ID86)': 'https://idahoaviation.com/airstrips/deadwood-reservoir/',\n",
       " 'Dewey Moore (DEW)': 'https://idahoaviation.com/airstrips/dewey-moore/',\n",
       " 'Dixie Town (NA2)': 'https://idahoaviation.com/airstrips/dixie-town/',\n",
       " 'Dixie USFS (A05)': 'https://idahoaviation.com/airstrips/dixie-usfs/',\n",
       " 'Donnelly (U84)': 'https://idahoaviation.com/airstrips/donnelly/',\n",
       " 'Downey (U58)': 'https://idahoaviation.com/airstrips/downey/',\n",
       " 'Driggs (KDIJ)': 'https://idahoaviation.com/airstrips/driggs/',\n",
       " 'Dubois (U41)': 'https://idahoaviation.com/airstrips/dubois/',\n",
       " 'Dug Bar (OR8)': 'https://idahoaviation.com/airstrips/dug-bar/',\n",
       " 'Elk City (S90)': 'https://idahoaviation.com/airstrips/elk-city/',\n",
       " 'Elk River (ID85)': 'https://idahoaviation.com/airstrips/elk-river/',\n",
       " 'Emmett Municipal (S78)': 'https://idahoaviation.com/airstrips/emmett-municipal/',\n",
       " 'Enterprise Municipal (8S4)': 'https://idahoaviation.com/airstrips/enterprise-municipal-airport/',\n",
       " 'Fairfield, Camas County (U86)': 'https://idahoaviation.com/airstrips/fairfield-camas-county-airport/',\n",
       " 'Fish Lake (S92)': 'https://idahoaviation.com/airstrips/fish-lake/',\n",
       " 'Flying B Ranch (12ID)': 'https://idahoaviation.com/airstrips/flying-b-ranch/',\n",
       " 'Friedman Memorial (KSUN)': 'https://idahoaviation.com/airstrips/friedman-memorial-airport/',\n",
       " 'Garden Valley (U88)': 'https://idahoaviation.com/airstrips/garden-valley/',\n",
       " 'Glenns Ferry (U89)': 'https://idahoaviation.com/airstrips/glenns-ferry/',\n",
       " 'Gooding (KGNG)': 'https://idahoaviation.com/airstrips/gooding/',\n",
       " 'Graham (U45)': 'https://idahoaviation.com/airstrips/graham/',\n",
       " 'Grangeville (KGIC)': 'https://idahoaviation.com/airstrips/grangeville/',\n",
       " 'Grasmere (U91)': 'https://idahoaviation.com/airstrips/grasmere/',\n",
       " 'Hazelton (U94)': 'https://idahoaviation.com/airstrips/hazelton/',\n",
       " 'Henry’s Lake (U53)': 'https://idahoaviation.com/airstrips/henrys-lake/',\n",
       " 'Hollow Top (0U7)': 'https://idahoaviation.com/airstrips/hollow-top/',\n",
       " 'Homedale (S66)': 'https://idahoaviation.com/airstrips/homedale/',\n",
       " 'Howe (U97)': 'https://idahoaviation.com/airstrips/howe/',\n",
       " 'Idaho City (U98)': 'https://idahoaviation.com/airstrips/idaho-city/',\n",
       " 'Idaho Falls (KIDA)': 'https://idahoaviation.com/airstrips/idaho-falls/',\n",
       " 'Indian Creek (S81)': 'https://idahoaviation.com/airstrips/indian-creek/',\n",
       " 'Jerome County (KJER)': 'https://idahoaviation.com/airstrips/jerome-county/',\n",
       " 'Johnson Creek (3U2)': 'https://idahoaviation.com/airstrips/johnson-creek/',\n",
       " 'Joseph, OR (KJSY)': 'https://idahoaviation.com/airstrips/joseph-or/',\n",
       " 'Josephine Creek Ranch (2ID3)': 'https://idahoaviation.com/airstrips/josephine-creek-ranch/',\n",
       " 'Kamiah (S73)': 'https://idahoaviation.com/airstrips/kamiah/',\n",
       " 'Kellogg/Shoshone County (S83)': 'https://idahoaviation.com/airstrips/kellog-shoshone-county-airport/',\n",
       " 'Kooskia Municipal (S82)': 'https://idahoaviation.com/airstrips/kooskia-municipal-airport/',\n",
       " 'Krassel USFS (24K)': 'https://idahoaviation.com/airstrips/krassel-usfs/',\n",
       " 'Laidlaw Corrals (U99)': 'https://idahoaviation.com/airstrips/laidlaw-corrals/',\n",
       " 'Landmark USFS (0U0)': 'https://idahoaviation.com/airstrips/landmark-usfs/',\n",
       " 'Lava Hot Springs (01ID)': 'https://idahoaviation.com/airstrips/lava-hot-springs/',\n",
       " 'Lazy H Ranch (TBD)': 'https://idahoaviation.com/airstrips/greene-valley-retreat/',\n",
       " 'Leadore (U00)': 'https://idahoaviation.com/airstrips/leadore/',\n",
       " 'Lewiston-Nez Perce County (KLWS)': 'https://idahoaviation.com/airstrips/lewiston-nez-perce-county-airport/',\n",
       " 'Lower Loon Creek (C53)': 'https://idahoaviation.com/airstrips/lower-loon-creek/',\n",
       " 'Mackay (U62)': 'https://idahoaviation.com/airstrips/mackay-airport/',\n",
       " 'MacKay Bar (ID28)': 'https://idahoaviation.com/airstrips/mackay-bar/',\n",
       " 'Magee (S77)': 'https://idahoaviation.com/airstrips/magee/',\n",
       " 'Magic Reservoir (U93)': 'https://idahoaviation.com/airstrips/magic-reservoir/',\n",
       " 'Mahoney Creek USFS (0U3)': 'https://idahoaviation.com/airstrips/mahoney-creek-usfs/',\n",
       " 'Malad City (KMLD)': 'https://idahoaviation.com/airstrips/malad-city-airport/',\n",
       " 'Marble Creek (ID8)': 'https://idahoaviation.com/airstrips/marble-creek/',\n",
       " 'May (0U8)': 'https://idahoaviation.com/airstrips/may/',\n",
       " 'McCall Municipal (KMYL)': 'https://idahoaviation.com/airstrips/mccall-municipal-airport/',\n",
       " 'Memaloose (25U)': 'https://idahoaviation.com/airstrips/memaloose/',\n",
       " 'Midvale (0U9)': 'https://idahoaviation.com/airstrips/midvale/',\n",
       " 'Midway (U37)': 'https://idahoaviation.com/airstrips/midway/',\n",
       " 'Mile Hi (K10)': 'https://idahoaviation.com/airstrips/mile-hi/',\n",
       " 'Moose Creek USFS (1U1)': 'https://idahoaviation.com/airstrips/moose-creek-usfs/',\n",
       " 'Mountain Home Municipal (U76)': 'https://idahoaviation.com/airstrips/mountain-home-municipal-airport/',\n",
       " 'Mud Lake (1U2)': 'https://idahoaviation.com/airstrips/mud-lake/',\n",
       " 'Murphy (1U3)': 'https://idahoaviation.com/airstrips/murphy/',\n",
       " 'Murphy Hot Springs (3U0)': 'https://idahoaviation.com/airstrips/murphy-hot-springs/',\n",
       " 'Nampa Municipal (KMAN)': 'https://idahoaviation.com/airstrips/nampa-municipal-airport/',\n",
       " 'New Meadows (1U4)': 'https://idahoaviation.com/airstrips/new-meadows/',\n",
       " 'Nez Perce Municipal (0S5)': 'https://idahoaviation.com/airstrips/nez-perce-municipal/',\n",
       " 'Oakley (1U6)': 'https://idahoaviation.com/airstrips/oakley/',\n",
       " 'Omak WA (KOMK)': 'https://idahoaviation.com/airstrips/omak-wa/',\n",
       " 'Orofino (S68)': 'https://idahoaviation.com/airstrips/orofino/',\n",
       " 'Orogrande (75C)': 'https://idahoaviation.com/airstrips/orogrande/',\n",
       " 'Owyhee Reservoir State Airport (Pelican) (28U)': 'https://idahoaviation.com/airstrips/owyhee-reservoir-pelican/',\n",
       " 'Parma (50S)': 'https://idahoaviation.com/airstrips/parma/',\n",
       " 'Payette (S75)': 'https://idahoaviation.com/airstrips/payette/',\n",
       " 'Picabo (ID82)': 'https://idahoaviation.com/airstrips/picabo/',\n",
       " 'Pine (1U9)': 'https://idahoaviation.com/airstrips/pine/',\n",
       " 'Pistol Creek Ranch ()': 'https://idahoaviation.com/airstrips/pistol-creek-ranch/',\n",
       " 'Pittsburg Landing-USFS (O29)': 'https://idahoaviation.com/airstrips/pittsburg/',\n",
       " 'Pocatello (KPIH)': 'https://idahoaviation.com/airstrips/pocatello/',\n",
       " 'Porthill (1S1)': 'https://idahoaviation.com/airstrips/porthill/',\n",
       " 'Preston (U10)': 'https://idahoaviation.com/airstrips/preston/',\n",
       " 'Priest Lake (67S)': 'https://idahoaviation.com/airstrips/priest-lake/',\n",
       " 'Priest River (1S6)': 'https://idahoaviation.com/airstrips/priest-river/',\n",
       " 'Pullman/Moscow Regional (KPUW)': 'https://idahoaviation.com/airstrips/pullman-moscow-regional/',\n",
       " 'Reed Ranch (I92)': 'https://idahoaviation.com/airstrips/reed-ranch/',\n",
       " 'Rexburg-Madison County (KRXE)': 'https://idahoaviation.com/airstrips/rexburg-madison-county-airport/',\n",
       " 'Rigby (U56)': 'https://idahoaviation.com/airstrips/rigby/',\n",
       " 'Rockford (2U4)': 'https://idahoaviation.com/airstrips/rockford/',\n",
       " 'Rogersburg State (D69)': 'https://idahoaviation.com/airstrips/rogersburg-state/',\n",
       " 'Root Ranch (ROO)': 'https://idahoaviation.com/airstrips/root-ranch/',\n",
       " 'Salmon (KSMN)': 'https://idahoaviation.com/airstrips/salmon/',\n",
       " 'Salmon Bar-USFS (O48)': 'https://idahoaviation.com/airstrips/salmon-bar/',\n",
       " 'Sandpoint (KSZT)': 'https://idahoaviation.com/airstrips/sandpoint/',\n",
       " 'Seven Devils (ID17)': 'https://idahoaviation.com/airstrips/seven-devils/',\n",
       " 'Shearer (2U5)': 'https://idahoaviation.com/airstrips/shearer/',\n",
       " 'Simonds (NA9)': 'https://idahoaviation.com/airstrips/simonds/',\n",
       " 'Slate Creek (1S7)': 'https://idahoaviation.com/airstrips/slate-creek/',\n",
       " 'Sluice Creek-USFS (O68)': 'https://idahoaviation.com/airstrips/sluice-creek-usfs/',\n",
       " 'Smiley Creek (U87)': 'https://idahoaviation.com/airstrips/smiley-creek/',\n",
       " 'Smiths Prairie (2U0)': 'https://idahoaviation.com/airstrips/smiths-prairie/',\n",
       " 'Soda Springs (U78)': 'https://idahoaviation.com/airstrips/soda-springs/',\n",
       " 'Soldier Bar (85U)': 'https://idahoaviation.com/airstrips/soldier-bar/',\n",
       " 'South Fork Ranch (0ID0)': 'https://idahoaviation.com/airstrips/south-fork-ranch/',\n",
       " 'St. Anthony (U12)': 'https://idahoaviation.com/airstrips/st-anthony/',\n",
       " 'St. Maries (S72)': 'https://idahoaviation.com/airstrips/st-maries/',\n",
       " 'Stanley (2U7)': 'https://idahoaviation.com/airstrips/stanley/',\n",
       " 'Sulphur Creek (ID74)': 'https://idahoaviation.com/airstrips/sulphur-creek/',\n",
       " 'Sunrise Sky Park (ID40)': 'https://idahoaviation.com/airstrips/sunrise-sky-park/',\n",
       " 'Tanglefoot Seaplane Base Cavan (D28)': 'https://idahoaviation.com/airstrips/tanglefoot-seaplane-base-cavan/',\n",
       " 'Temperance Creek-USFS (OR01)': 'https://idahoaviation.com/airstrips/temperance-creek-usfs/',\n",
       " 'Thomas Creek (2U8)': 'https://idahoaviation.com/airstrips/thomas-creek/',\n",
       " 'Twin Bridges (U61)': 'https://idahoaviation.com/airstrips/twin-bridges/',\n",
       " 'Twin Falls (KTWF)': 'https://idahoaviation.com/airstrips/twin-falls/',\n",
       " 'Upper Loon Creek (U72)': 'https://idahoaviation.com/airstrips/upper-loon-creek/',\n",
       " 'Vines (NA8)': 'https://idahoaviation.com/airstrips/vines/',\n",
       " 'W E Ranch (KOID)': 'https://idahoaviation.com/airstrips/w-e-ranch/',\n",
       " 'Wapshilla (I45 (formerly ID50))': 'https://idahoaviation.com/airstrips/wapshilla/',\n",
       " 'Warm Springs (0U1)': 'https://idahoaviation.com/airstrips/warm-springs/',\n",
       " 'Warren (3U1)': 'https://idahoaviation.com/airstrips/warren/',\n",
       " 'Weatherby (52U)': 'https://idahoaviation.com/airstrips/weatherby/',\n",
       " 'Weiser (S87)': 'https://idahoaviation.com/airstrips/weiser/',\n",
       " 'Wilson Bar (C48)': 'https://idahoaviation.com/airstrips/wilson-bar/'}"
      ]
     },
     "execution_count": 121,
     "metadata": {},
     "output_type": "execute_result"
    }
   ],
   "source": [
    "airstrips = {a.getText(): a.get('href') for a in airstrip_links}\n",
    "airstrips"
   ]
  },
  {
   "cell_type": "code",
   "execution_count": 138,
   "metadata": {
    "ExecuteTime": {
     "end_time": "2023-05-26T06:26:29.706996Z",
     "start_time": "2023-05-26T06:26:29.702506Z"
    },
    "collapsed": false
   },
   "outputs": [],
   "source": [
    "def parse_airstrip(airstrip_link, key):\n",
    "    doc = requests.get(airstrip_link).content\n",
    "    soup = BeautifulSoup(doc)\n",
    "    entry = soup.find('div', class_=\"entry-content\")\n",
    "    details = {i.split(':')[0].lower().replace(' ','_'): i.split(':')[1] for i in  entry.find('div', class_='basics_wrap').getText().strip().split('\\n')}\n",
    "    description = soup.find('div', class_='description').getText().strip()\n",
    "    details['description'] = description\n",
    "    managers = [t.getText().strip().replace('\\n',' ').replace('\\t',' ') for t in soup.find_all('table', class_='manager-tables')]\n",
    "\n",
    "    details['maangers'] = managers\n",
    "    classification = soup.find('div', class_='classification_wrap').getText().strip().replace('\\n',' ').replace('\\t',' ')\n",
    "    details['classification'] = classification\n",
    "\n",
    "    runway_raw = soup.find('div', class_='runway_wrap').getText().strip().replace('\\n',' ').replace('\\t',' ').split('  ')\n",
    "    runway_diagram = soup.find('div', class_='runway_wrap').find('a', class_='runway_diagram')\n",
    "    if runway_diagram:\n",
    "        details['runway_diagram'] = runway_diagram.get('href')\n",
    "    try:\n",
    "        runway = {i.split(':')[0].lower().strip().replace(' ','_'): i.split(':')[1] if len(i.split(':')) > 1 else '' for i in runway_raw}\n",
    "        if '' in runway:\n",
    "            del runway['']\n",
    "        details['runway'] = runway\n",
    "    except Exception as e:\n",
    "        print(\"ERROR\", e, runway_raw)\n",
    "\n",
    "    details['link'] = airstrip_link\n",
    "    details['key'] = key\n",
    "    return details"
   ]
  },
  {
   "cell_type": "code",
   "execution_count": 139,
   "metadata": {
    "ExecuteTime": {
     "end_time": "2023-05-26T06:26:31.091158Z",
     "start_time": "2023-05-26T06:26:30.847719Z"
    },
    "collapsed": false
   },
   "outputs": [
    {
     "data": {
      "text/plain": [
       "{'airport_identifier': ' KSUN',\n",
       " 'elevation': ' 5320',\n",
       " 'latitude': ' 43.5037806',\n",
       " 'longitude': ' -114.2955583',\n",
       " 'description': \"Attended dawn to dusk.\\xa0 100LL and Jet A fuel available after dusk.\\xa0 When tower closed land RWY 31 and depart RWY 13 due to opposite direction traffic; use landing lights in traffic pattern.\\xa0 Noise abatement procedures contact airport manager.\\xa0 Not recommended for night use in marginal weather by unfamiliar pilots due to mountainous terrain.\\xa0 Taxiway A open between taxiways A2 and A3 daylight hours only.\\xa0 Taxiways A5 and B5 restricted to aircraft wingspans of 49' or less.\\xa0 Landing fee for aircraft greater than 6000lbs.\\xa0 Favor east side of canyon on approach to RWY 31.\\xa0 West side of canyon when departing RWY 13.\\xa0\\nServices: Major A&P repairs, tiedowns, hangars, charters, sales, air taxi, towing and gliders, ground transportation.\\xa0 Food and lodging in town.\",\n",
       " 'maangers': ['Airstrip Manager:  Chris Pomeroy       208-788-4956',\n",
       "  'District:  #4 Magic Valley     District Director: Kerry Requa       208-221-7417   [email\\xa0protected]'],\n",
       " 'classification': 'Classification: Developed Classification  Airstrips have basic navigational aids and some additional services such as restrooms or camping facilities. May have road access to nearby attractions. Typically located in areas of high use, often in remote settings but maybe accessed by improved roads.',\n",
       " 'runway': {'primary_runway': '', 'length': ' 7550', 'type': ' Asphalt'},\n",
       " 'link': 'https://idahoaviation.com/airstrips/friedman-memorial-airport/'}"
      ]
     },
     "execution_count": 139,
     "metadata": {},
     "output_type": "execute_result"
    }
   ],
   "source": [
    "# validate a sample\n",
    "parse_airstrip(airstrips['Friedman Memorial (KSUN)'])"
   ]
  },
  {
   "cell_type": "code",
   "execution_count": 140,
   "metadata": {
    "ExecuteTime": {
     "end_time": "2023-05-26T06:27:13.950928Z",
     "start_time": "2023-05-26T06:26:36.313398Z"
    },
    "collapsed": false
   },
   "outputs": [
    {
     "name": "stdout",
     "output_type": "stream",
     "text": [
      "parsing 45 Ranch (NA4)\n",
      "parsing Aberdeen (U36)\n",
      "parsing Alpine (46U)\n",
      "parsing American Falls (U01)\n",
      "parsing Antelope Valley (U92)\n",
      "parsing Arco (KAOC)\n",
      "parsing Athol ID (ID05)\n",
      "parsing Atlanta (55H)\n",
      "parsing Bancroft (U51)\n",
      "parsing Bear Lake Co./Paris (1U7)\n",
      "parsing Bear Trap (1U0)\n",
      "parsing Bernard (U54)\n",
      "parsing Big Bar (1DA)\n",
      "parsing Big Creek (U60)\n",
      "parsing Big Southern Butte (U46)\n",
      "parsing Blackfoot (U02)\n",
      "parsing Boise (KBOI)\n",
      "parsing Bonners Ferry (65S)\n",
      "parsing Brooks Seaplane Base (S76)\n",
      "parsing Bruce Meadows (U63)\n",
      "parsing Buhl (U03)\n",
      "parsing Burley (KBYI)\n",
      "parsing Cabin Creek (I08)\n",
      "parsing Cache Creek (OR62)\n",
      "parsing Caldwell (KEUL)\n",
      "parsing Carey (U65)\n",
      "parsing Cascade (U70)\n",
      "parsing Cavanaugh Bay (66S)\n",
      "parsing Cayuse Creek (C64)\n",
      "parsing Challis (KLLJ)\n",
      "parsing Chamberlain Basin (U79)\n",
      "parsing Coeur D’ Alene-Pappy Boyington Field (KCOE)\n",
      "parsing Cold Meadows (U81)\n",
      "parsing Copper Basin (0U2)\n",
      "parsing Cottonwood (S84)\n",
      "parsing Cougar Ranch (D47)\n",
      "parsing Council (U82)\n",
      "parsing Cox’s Well (U48)\n",
      "parsing Craigmont (S89)\n",
      "parsing Deadwood Reservoir (ID86)\n",
      "parsing Dewey Moore (DEW)\n",
      "parsing Dixie Town (NA2)\n",
      "parsing Dixie USFS (A05)\n",
      "parsing Donnelly (U84)\n",
      "parsing Downey (U58)\n",
      "parsing Driggs (KDIJ)\n",
      "parsing Dubois (U41)\n",
      "parsing Dug Bar (OR8)\n",
      "parsing Elk City (S90)\n",
      "parsing Elk River (ID85)\n",
      "parsing Emmett Municipal (S78)\n",
      "parsing Enterprise Municipal (8S4)\n",
      "parsing Fairfield, Camas County (U86)\n",
      "parsing Fish Lake (S92)\n",
      "parsing Flying B Ranch (12ID)\n",
      "parsing Friedman Memorial (KSUN)\n",
      "parsing Garden Valley (U88)\n",
      "parsing Glenns Ferry (U89)\n",
      "parsing Gooding (KGNG)\n",
      "parsing Graham (U45)\n",
      "parsing Grangeville (KGIC)\n",
      "parsing Grasmere (U91)\n",
      "parsing Hazelton (U94)\n",
      "parsing Henry’s Lake (U53)\n",
      "parsing Hollow Top (0U7)\n",
      "parsing Homedale (S66)\n",
      "parsing Howe (U97)\n",
      "parsing Idaho City (U98)\n",
      "parsing Idaho Falls (KIDA)\n",
      "parsing Indian Creek (S81)\n",
      "parsing Jerome County (KJER)\n",
      "parsing Johnson Creek (3U2)\n",
      "parsing Joseph, OR (KJSY)\n",
      "parsing Josephine Creek Ranch (2ID3)\n",
      "parsing Kamiah (S73)\n",
      "parsing Kellogg/Shoshone County (S83)\n",
      "parsing Kooskia Municipal (S82)\n",
      "parsing Krassel USFS (24K)\n",
      "parsing Laidlaw Corrals (U99)\n",
      "parsing Landmark USFS (0U0)\n",
      "parsing Lava Hot Springs (01ID)\n",
      "parsing Lazy H Ranch (TBD)\n",
      "parsing Leadore (U00)\n",
      "parsing Lewiston-Nez Perce County (KLWS)\n",
      "parsing Lower Loon Creek (C53)\n",
      "parsing Mackay (U62)\n",
      "parsing MacKay Bar (ID28)\n",
      "parsing Magee (S77)\n",
      "parsing Magic Reservoir (U93)\n",
      "parsing Mahoney Creek USFS (0U3)\n",
      "parsing Malad City (KMLD)\n",
      "parsing Marble Creek (ID8)\n",
      "parsing May (0U8)\n",
      "parsing McCall Municipal (KMYL)\n",
      "parsing Memaloose (25U)\n",
      "parsing Midvale (0U9)\n",
      "parsing Midway (U37)\n",
      "parsing Mile Hi (K10)\n",
      "parsing Moose Creek USFS (1U1)\n",
      "parsing Mountain Home Municipal (U76)\n",
      "parsing Mud Lake (1U2)\n",
      "parsing Murphy (1U3)\n",
      "parsing Murphy Hot Springs (3U0)\n",
      "parsing Nampa Municipal (KMAN)\n",
      "parsing New Meadows (1U4)\n",
      "parsing Nez Perce Municipal (0S5)\n",
      "parsing Oakley (1U6)\n",
      "parsing Omak WA (KOMK)\n",
      "parsing Orofino (S68)\n",
      "parsing Orogrande (75C)\n",
      "parsing Owyhee Reservoir State Airport (Pelican) (28U)\n",
      "parsing Parma (50S)\n",
      "parsing Payette (S75)\n",
      "parsing Picabo (ID82)\n",
      "parsing Pine (1U9)\n",
      "parsing Pistol Creek Ranch ()\n",
      "parsing Pittsburg Landing-USFS (O29)\n",
      "parsing Pocatello (KPIH)\n",
      "parsing Porthill (1S1)\n",
      "parsing Preston (U10)\n",
      "parsing Priest Lake (67S)\n",
      "parsing Priest River (1S6)\n",
      "parsing Pullman/Moscow Regional (KPUW)\n",
      "parsing Reed Ranch (I92)\n",
      "parsing Rexburg-Madison County (KRXE)\n",
      "parsing Rigby (U56)\n",
      "parsing Rockford (2U4)\n",
      "parsing Rogersburg State (D69)\n",
      "parsing Root Ranch (ROO)\n",
      "parsing Salmon (KSMN)\n",
      "parsing Salmon Bar-USFS (O48)\n",
      "parsing Sandpoint (KSZT)\n",
      "parsing Seven Devils (ID17)\n",
      "parsing Shearer (2U5)\n",
      "parsing Simonds (NA9)\n",
      "parsing Slate Creek (1S7)\n",
      "parsing Sluice Creek-USFS (O68)\n",
      "parsing Smiley Creek (U87)\n",
      "parsing Smiths Prairie (2U0)\n",
      "parsing Soda Springs (U78)\n",
      "parsing Soldier Bar (85U)\n",
      "parsing South Fork Ranch (0ID0)\n",
      "parsing St. Anthony (U12)\n",
      "parsing St. Maries (S72)\n",
      "parsing Stanley (2U7)\n",
      "parsing Sulphur Creek (ID74)\n",
      "parsing Sunrise Sky Park (ID40)\n",
      "parsing Tanglefoot Seaplane Base Cavan (D28)\n",
      "parsing Temperance Creek-USFS (OR01)\n",
      "parsing Thomas Creek (2U8)\n",
      "parsing Twin Bridges (U61)\n",
      "parsing Twin Falls (KTWF)\n",
      "parsing Upper Loon Creek (U72)\n",
      "parsing Vines (NA8)\n",
      "parsing W E Ranch (KOID)\n",
      "parsing Wapshilla (I45 (formerly ID50))\n",
      "parsing Warm Springs (0U1)\n",
      "parsing Warren (3U1)\n",
      "parsing Weatherby (52U)\n",
      "parsing Weiser (S87)\n",
      "parsing Wilson Bar (C48)\n"
     ]
    }
   ],
   "source": [
    "# scrape individual pages for airstrips\n",
    "# and store results to a dict\n",
    "parsed_airstrips = {}\n",
    "for airstrip in airstrips:\n",
    "    print(\"parsing\", airstrip)\n",
    "    parsed_airstrips[airstrip] = parse_airstrip(airstrips[airstrip])"
   ]
  },
  {
   "cell_type": "code",
   "execution_count": 142,
   "metadata": {
    "ExecuteTime": {
     "end_time": "2023-05-26T06:27:15.717821Z",
     "start_time": "2023-05-26T06:27:15.709249Z"
    },
    "collapsed": false
   },
   "outputs": [],
   "source": [
    "# Store results for later use\n",
    "import json\n",
    "with open('airstrips.json', 'w') as f:\n",
    "    json.dump(parsed_airstrips, f)"
   ]
  },
  {
   "cell_type": "code",
   "execution_count": 177,
   "outputs": [],
   "source": [
    "# template copied from the Utah Backcountry pilots Foreflight pack\n",
    "# the template was broken down into 3 parts (the data row, the placemark and the overall template)\n",
    "# the data row is a jinja2 template that is rendered for each airstrip\n",
    "# the placemark is a jinja2 template that is rendered for each airstrip\n",
    "# the overall template is a jinja2 template that is rendered for all the placemarks\n",
    "\n",
    "from jinja2 import Environment, FileSystemLoader\n",
    "environment = Environment(loader=FileSystemLoader(\"./templates\"))\n",
    "row_template = environment.get_template(\"placemark_row_template.kml\")\n",
    "placemark_template = environment.get_template(\"placemark_template.kml\")\n",
    "template = environment.get_template(\"template.kml\")"
   ],
   "metadata": {
    "collapsed": false,
    "ExecuteTime": {
     "end_time": "2023-05-26T07:55:49.253263Z",
     "start_time": "2023-05-26T07:55:49.224442Z"
    }
   }
  },
  {
   "cell_type": "code",
   "execution_count": 165,
   "outputs": [
    {
     "name": "stderr",
     "output_type": "stream",
     "text": [
      "100%|██████████| 161/161 [00:00<00:00, 17339.40it/s]\n"
     ]
    }
   ],
   "source": [
    "\n",
    "rendered_placemarks = []\n",
    "for key, airstrip in tqdm(parsed_airstrips.items()):\n",
    "    rendered_row = re.sub('\\n[ ]*','',row_template.render(key=key, **airstrip))\n",
    "    rendered_placemark = placemark_template.render(key=key, template_row=rendered_row, **airstrip)\n",
    "    rendered_placemarks.append(rendered_placemark)\n"
   ],
   "metadata": {
    "collapsed": false,
    "ExecuteTime": {
     "end_time": "2023-05-26T07:46:51.155782Z",
     "start_time": "2023-05-26T07:46:51.141460Z"
    }
   }
  },
  {
   "cell_type": "code",
   "execution_count": 180,
   "outputs": [],
   "source": [
    "rendered_template = template.render(formatted_airstrips=rendered_placemarks)\n",
    "with open('airstrips.kml', 'w') as f:\n",
    "    f.write(rendered_template)"
   ],
   "metadata": {
    "collapsed": false,
    "ExecuteTime": {
     "end_time": "2023-05-26T07:56:41.748396Z",
     "start_time": "2023-05-26T07:56:41.708676Z"
    }
   }
  },
  {
   "cell_type": "code",
   "execution_count": 186,
   "outputs": [
    {
     "name": "stdout",
     "output_type": "stream",
     "text": [
      "  adding: IdahoAirstrips/ (stored 0%)\r\n",
      "  adding: IdahoAirstrips/navdata/ (stored 0%)\r\n",
      "  adding: IdahoAirstrips/navdata/airstrips.kml (deflated 98%)\r\n",
      "  adding: IdahoAirstrips/manifest.json (deflated 42%)\r\n"
     ]
    }
   ],
   "source": [
    "!rm -rf IdahoAirstrips\n",
    "!mkdir -p IdahoAirstrips/navdata\n",
    "!cp airstrips.kml IdahoAirstrips/navdata\n",
    "!cp templates/manifest.json IdahoAirstrips/\n",
    "!zip -r IdahoAirstrips.zip  IdahoAirstrips"
   ],
   "metadata": {
    "collapsed": false,
    "ExecuteTime": {
     "end_time": "2023-05-26T08:10:24.315372Z",
     "start_time": "2023-05-26T08:10:23.579063Z"
    }
   }
  },
  {
   "cell_type": "code",
   "execution_count": null,
   "outputs": [],
   "source": [],
   "metadata": {
    "collapsed": false
   }
  }
 ],
 "metadata": {
  "kernelspec": {
   "display_name": "Python 3",
   "language": "python",
   "name": "python3"
  },
  "language_info": {
   "codemirror_mode": {
    "name": "ipython",
    "version": 2
   },
   "file_extension": ".py",
   "mimetype": "text/x-python",
   "name": "python",
   "nbconvert_exporter": "python",
   "pygments_lexer": "ipython2",
   "version": "2.7.6"
  }
 },
 "nbformat": 4,
 "nbformat_minor": 0
}
